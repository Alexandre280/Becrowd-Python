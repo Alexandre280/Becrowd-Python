{
 "cells": [
  {
   "cell_type": "code",
   "execution_count": 7,
   "id": "f2d73c09",
   "metadata": {},
   "outputs": [
    {
     "name": "stdout",
     "output_type": "stream",
     "text": [
      "12 1 5.30\n",
      "16 2 5.10\n",
      "VALOR A PAGAR: R$ 15.50\n"
     ]
    }
   ],
   "source": [
    "l1 = input().split(' ')\n",
    "l2 = input().split(' ')\n",
    "\n",
    "cod_1, num_peca_1, valor_p_1 = l1\n",
    "cod_2, num_peca_2, valor_p_2= l2\n",
    "\n",
    "print('VALOR A PAGAR: R$ {:.2f}'.format(int(num_peca_1) * float(valor_p_1) + int(num_peca_2) * float(valor_p_2)))"
   ]
  },
  {
   "cell_type": "code",
   "execution_count": null,
   "id": "f838245e",
   "metadata": {},
   "outputs": [],
   "source": []
  }
 ],
 "metadata": {
  "kernelspec": {
   "display_name": "Python 3 (ipykernel)",
   "language": "python",
   "name": "python3"
  },
  "language_info": {
   "codemirror_mode": {
    "name": "ipython",
    "version": 3
   },
   "file_extension": ".py",
   "mimetype": "text/x-python",
   "name": "python",
   "nbconvert_exporter": "python",
   "pygments_lexer": "ipython3",
   "version": "3.9.7"
  }
 },
 "nbformat": 4,
 "nbformat_minor": 5
}
