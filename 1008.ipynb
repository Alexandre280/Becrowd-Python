{
 "cells": [
  {
   "cell_type": "code",
   "execution_count": 3,
   "id": "890ed818",
   "metadata": {},
   "outputs": [
    {
     "name": "stdout",
     "output_type": "stream",
     "text": [
      "1\n",
      "200\n",
      "20.50\n",
      "NUMBER = 1\n",
      "SALARY = U$ 4100.00\n"
     ]
    }
   ],
   "source": [
    "cod_f = int(input())\n",
    "horas = int(input())\n",
    "valor = float(input())\n",
    "\n",
    "print('NUMBER = {}'.format(cod_f))\n",
    "print('SALARY = U$ {:.2f}'.format(horas * valor))"
   ]
  },
  {
   "cell_type": "code",
   "execution_count": null,
   "id": "81d9b0d2",
   "metadata": {},
   "outputs": [],
   "source": []
  }
 ],
 "metadata": {
  "kernelspec": {
   "display_name": "Python 3 (ipykernel)",
   "language": "python",
   "name": "python3"
  },
  "language_info": {
   "codemirror_mode": {
    "name": "ipython",
    "version": 3
   },
   "file_extension": ".py",
   "mimetype": "text/x-python",
   "name": "python",
   "nbconvert_exporter": "python",
   "pygments_lexer": "ipython3",
   "version": "3.9.7"
  }
 },
 "nbformat": 4,
 "nbformat_minor": 5
}
