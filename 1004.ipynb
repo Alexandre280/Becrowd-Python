{
 "cells": [
  {
   "cell_type": "code",
   "execution_count": 2,
   "id": "e6b1cd85",
   "metadata": {},
   "outputs": [
    {
     "name": "stdout",
     "output_type": "stream",
     "text": [
      "-30\n",
      "10\n",
      "PROD = -300\n"
     ]
    }
   ],
   "source": [
    "b = int(input())\n",
    "h = int(input())\n",
    "PROD = b * h\n",
    "print('PROD = {}'.format(PROD))"
   ]
  },
  {
   "cell_type": "code",
   "execution_count": null,
   "id": "85c75e23",
   "metadata": {},
   "outputs": [],
   "source": []
  }
 ],
 "metadata": {
  "kernelspec": {
   "display_name": "Python 3 (ipykernel)",
   "language": "python",
   "name": "python3"
  },
  "language_info": {
   "codemirror_mode": {
    "name": "ipython",
    "version": 3
   },
   "file_extension": ".py",
   "mimetype": "text/x-python",
   "name": "python",
   "nbconvert_exporter": "python",
   "pygments_lexer": "ipython3",
   "version": "3.9.7"
  }
 },
 "nbformat": 4,
 "nbformat_minor": 5
}
