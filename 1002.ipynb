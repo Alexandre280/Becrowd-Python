{
 "cells": [
  {
   "cell_type": "code",
   "execution_count": 15,
   "id": "836803a3",
   "metadata": {},
   "outputs": [
    {
     "name": "stdout",
     "output_type": "stream",
     "text": [
      "100.64\n",
      "A=31819.3103\n"
     ]
    }
   ],
   "source": [
    "raio = float(input())\n",
    "π = 3.14159\n",
    "area = π*raio**2\n",
    "print('A={:.4f}'.format(area))"
   ]
  },
  {
   "cell_type": "code",
   "execution_count": null,
   "id": "21c2dd41",
   "metadata": {},
   "outputs": [],
   "source": []
  }
 ],
 "metadata": {
  "kernelspec": {
   "display_name": "Python 3 (ipykernel)",
   "language": "python",
   "name": "python3"
  },
  "language_info": {
   "codemirror_mode": {
    "name": "ipython",
    "version": 3
   },
   "file_extension": ".py",
   "mimetype": "text/x-python",
   "name": "python",
   "nbconvert_exporter": "python",
   "pygments_lexer": "ipython3",
   "version": "3.9.7"
  }
 },
 "nbformat": 4,
 "nbformat_minor": 5
}
