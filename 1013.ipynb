{
 "cells": [
  {
   "cell_type": "code",
   "execution_count": 8,
   "id": "bab4bb6b",
   "metadata": {},
   "outputs": [
    {
     "name": "stdout",
     "output_type": "stream",
     "text": [
      "217 14 6\n",
      "217 eh o maior\n"
     ]
    }
   ],
   "source": [
    "entrada = input().split(\" \")\n",
    "A, B, C = entrada\n",
    "A = int(A)\n",
    "B = int(B)\n",
    "C = int(C)\n",
    "maiorAB = (A+B + abs(A-B))/2\n",
    "maiorABC = (maiorAB+C + abs(maiorAB-C))/2\n",
    "print('{:.0f} eh o maior'.format(maiorABC))"
   ]
  }
 ],
 "metadata": {
  "kernelspec": {
   "display_name": "Python 3 (ipykernel)",
   "language": "python",
   "name": "python3"
  },
  "language_info": {
   "codemirror_mode": {
    "name": "ipython",
    "version": 3
   },
   "file_extension": ".py",
   "mimetype": "text/x-python",
   "name": "python",
   "nbconvert_exporter": "python",
   "pygments_lexer": "ipython3",
   "version": "3.9.7"
  }
 },
 "nbformat": 4,
 "nbformat_minor": 5
}
