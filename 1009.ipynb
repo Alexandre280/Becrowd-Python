{
 "cells": [
  {
   "cell_type": "code",
   "execution_count": 4,
   "id": "b6f6da44",
   "metadata": {},
   "outputs": [
    {
     "name": "stdout",
     "output_type": "stream",
     "text": [
      "JOAO\n",
      "500.00\n",
      "1230.30\n",
      "TOTAL = R$ 684.54\n"
     ]
    }
   ],
   "source": [
    "nome = input()\n",
    "salario = float(input()) \n",
    "vendas = float(input())\n",
    "print('TOTAL = R$ {:.2f}'.format(vendas*0.15+salario))"
   ]
  },
  {
   "cell_type": "code",
   "execution_count": null,
   "id": "1aad83ab",
   "metadata": {},
   "outputs": [],
   "source": []
  }
 ],
 "metadata": {
  "kernelspec": {
   "display_name": "Python 3 (ipykernel)",
   "language": "python",
   "name": "python3"
  },
  "language_info": {
   "codemirror_mode": {
    "name": "ipython",
    "version": 3
   },
   "file_extension": ".py",
   "mimetype": "text/x-python",
   "name": "python",
   "nbconvert_exporter": "python",
   "pygments_lexer": "ipython3",
   "version": "3.9.7"
  }
 },
 "nbformat": 4,
 "nbformat_minor": 5
}
